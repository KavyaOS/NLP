{
 "cells": [
  {
   "cell_type": "code",
   "execution_count": 2,
   "metadata": {},
   "outputs": [],
   "source": [
    "import colibricore\n",
    "import numpy as np"
   ]
  },
  {
   "cell_type": "code",
   "execution_count": 3,
   "metadata": {},
   "outputs": [
    {
     "name": "stdout",
     "output_type": "stream",
     "text": [
      "Encoded 13082 classses\n"
     ]
    }
   ],
   "source": [
    "# Text file\n",
    "basename = 'wsj_raw_repl_pad'\n",
    "text_file = basename + '.txt'\n",
    "\n",
    "# Instantiate class encoder\n",
    "classencoder = colibricore.ClassEncoder()\n",
    "\n",
    "# Build classes\n",
    "classencoder.build(text_file)\n",
    "\n",
    "# Save class file\n",
    "class_file = basename + '.colibri.cls'\n",
    "classencoder.save(class_file)\n",
    "\n",
    "print(\"Encoded\", len(classencoder), 'classses')"
   ]
  },
  {
   "cell_type": "code",
   "execution_count": 4,
   "metadata": {},
   "outputs": [],
   "source": [
    "corpus_file = basename + '.colibri.dat'\n",
    "classencoder.encodefile(text_file, corpus_file)"
   ]
  },
  {
   "cell_type": "code",
   "execution_count": 5,
   "metadata": {},
   "outputs": [
    {
     "name": "stdout",
     "output_type": "stream",
     "text": [
      "##### Decoded #####\n",
      "<s> Pierre Vinken , 61 years old , will join the board as a nonexecutive director Nov. 29 .\n",
      "<s> Mr. Vinken is chairman of Elsevier N.V. , the Dutch pu\n"
     ]
    }
   ],
   "source": [
    "# Check if encoding worked as planned\n",
    "classdecoder = colibricore.ClassDecoder(class_file)\n",
    "decoded = classdecoder.decodefile(corpus_file)\n",
    "\n",
    "# Print\n",
    "print('##### Decoded #####')\n",
    "print(decoded[:150])"
   ]
  },
  {
   "cell_type": "code",
   "execution_count": 6,
   "metadata": {},
   "outputs": [],
   "source": [
    "## Pattern model\n",
    "\n",
    "#Set the options\n",
    "options = colibricore.PatternModelOptions(mintokens=2,maxlength=3)\n",
    "\n",
    "#Instantiate an empty unindexed model \n",
    "model = colibricore.UnindexedPatternModel()\n",
    "\n",
    "#Train it on our corpus file (class-encoded data, not plain text)\n",
    "model.train(corpus_file, options)"
   ]
  },
  {
   "cell_type": "code",
   "execution_count": 7,
   "metadata": {},
   "outputs": [
    {
     "name": "stdout",
     "output_type": "stream",
     "text": [
      "Found  21373  patterns:\n",
      "President Bush to 2\n",
      "a line-item veto 4\n",
      "to exercise a 2\n",
      "of steel shipped 2\n",
      "ton of steel 2\n",
      "per ton of 2\n",
      "to strike . 2\n",
      "an ounce to 2\n",
      "price of the 2\n",
      "the grain industry's 2\n"
     ]
    }
   ],
   "source": [
    "# Check model\n",
    "print(\"Found \" , len(model), \" patterns:\")\n",
    "\n",
    "for pattern, count in list(model.items())[:10]:\n",
    "    print(pattern.tostring(classdecoder), count)"
   ]
  },
  {
   "cell_type": "code",
   "execution_count": 8,
   "metadata": {},
   "outputs": [
    {
     "name": "stdout",
     "output_type": "stream",
     "text": [
      "How many \"<s> I\"\n",
      "13\n",
      "Top 10 patterns\n",
      ", 4888\n",
      "the 4047\n",
      "<s> 3613\n",
      ". 3397\n",
      "of 2322\n",
      "to 2165\n",
      "a 1875\n",
      "in 1573\n",
      "and 1512\n",
      "\" 1407\n",
      "for 815\n"
     ]
    }
   ],
   "source": [
    "## query specific patterns\n",
    "# The bigrams starting with <s>\n",
    "qp = classencoder.buildpattern('<s> I')\n",
    "print('How many \"<s> I\"')\n",
    "print(model[qp])\n",
    "\n",
    "print('Top 10 patterns')\n",
    "for pattern, count in sorted(model.top(10), key=lambda x:-x[1]):\n",
    "    print(pattern.tostring(classdecoder), count)"
   ]
  },
  {
   "cell_type": "code",
   "execution_count": 9,
   "metadata": {},
   "outputs": [
    {
     "name": "stdout",
     "output_type": "stream",
     "text": [
      "Unigram count:\n",
      "5955\n",
      "Bigram count:\n",
      "10419\n",
      "Trigram count:\n",
      "4999\n",
      "\n",
      "Bigram starting with <s> count:\n",
      "313\n",
      "Top 20 of them\n",
      "<s> The 636\n",
      "<s> In 184\n",
      "<s> But 151\n",
      "<s> Mr. 117\n",
      "<s> \" 89\n",
      "<s> A 88\n",
      "<s> He 60\n",
      "<s> It 57\n",
      "<s> They 45\n",
      "<s> And 37\n",
      "<s> For 36\n",
      "<s> That 32\n",
      "<s> If 28\n",
      "<s> As 28\n",
      "<s> This 27\n",
      "<s> At 25\n",
      "<s> Some 24\n",
      "<s> While 21\n",
      "<s> Sales 19\n",
      "<s> These 18\n"
     ]
    }
   ],
   "source": [
    "# All N-grams\n",
    "print('Unigram count:')\n",
    "print(len(list(model.filter(0, colibricore.Category.NGRAM, 1))))\n",
    "print('Bigram count:')\n",
    "print(len(list(model.filter(0, colibricore.Category.NGRAM, 2))))\n",
    "print('Trigram count:')\n",
    "print(len(list(model.filter(0, colibricore.Category.NGRAM, 3))))\n",
    "\n",
    "# All bigrams start with '<s>'\n",
    "start_bigram = []\n",
    "for pattern, count in model.filter(0, colibricore.Category.NGRAM, 2):\n",
    "    if pattern[0].tostring(classdecoder) == '<s>':\n",
    "        start_bigram.append((pattern, count))\n",
    "print()\n",
    "print('Bigram starting with <s> count:')\n",
    "print(len(start_bigram))\n",
    "print('Top 20 of them')\n",
    "for pattern, count in sorted(start_bigram, key=lambda x: x[1], reverse=True)[:20]:\n",
    "    print(pattern.tostring(classdecoder), count)"
   ]
  },
  {
   "cell_type": "code",
   "execution_count": 11,
   "metadata": {},
   "outputs": [],
   "source": [
    "def unigram_entropy(word, model, classencoder, classdecoder):\n",
    "    qp = classencoder.buildpattern(word)\n",
    "    if qp not in model:\n",
    "        print('\"{}\" not in model'.format(word))\n",
    "        return None\n",
    "        \n",
    "    total_occur = np.sum(count for pattern, count in model.filter(0, colibricore.Category.NGRAM, 2) \\\n",
    "                         if pattern[0].tostring(classdecoder) == word)\n",
    "    entropy = 0.0\n",
    "    for pattern, count in model.filter(0, colibricore.Category.NGRAM, 2):\n",
    "        if pattern[0].tostring(classdecoder) == word:\n",
    "            prob = count / total_occur\n",
    "            entropy += - prob * np.log2(prob)\n",
    "    return entropy"
   ]
  },
  {
   "cell_type": "code",
   "execution_count": 12,
   "metadata": {},
   "outputs": [
    {
     "name": "stdout",
     "output_type": "stream",
     "text": [
      "6.21843647371\n",
      "8.61231756445\n",
      "6.90829275255\n",
      "3.57103797056\n"
     ]
    }
   ],
   "source": [
    "print(unigram_entropy('<s>', model, classencoder, classdecoder))\n",
    "print(unigram_entropy('the', model, classencoder, classdecoder))\n",
    "print(unigram_entropy('and', model, classencoder, classdecoder))\n",
    "print(unigram_entropy('I', model, classencoder, classdecoder))"
   ]
  },
  {
   "cell_type": "code",
   "execution_count": 145,
   "metadata": {},
   "outputs": [
    {
     "data": {
      "text/plain": [
       "636"
      ]
     },
     "execution_count": 145,
     "metadata": {},
     "output_type": "execute_result"
    }
   ],
   "source": [
    "model.occurrencecount(classencoder.buildpattern('<s> The'))"
   ]
  },
  {
   "cell_type": "code",
   "execution_count": 116,
   "metadata": {},
   "outputs": [],
   "source": [
    "# Train skipgram on indexed model\n",
    "options = colibricore.PatternModelOptions(mintokens=2,maxlength=3, doskipgrams=True)\n",
    "\n",
    "corpus_indexed = colibricore.IndexedCorpus(corpus_file)\n",
    "model_indexed = colibricore.IndexedPatternModel(reverseindex=corpus_indexed)\n",
    "\n",
    "model_indexed.train(corpus_file, options)"
   ]
  },
  {
   "cell_type": "code",
   "execution_count": 118,
   "metadata": {},
   "outputs": [
    {
     "name": "stdout",
     "output_type": "stream",
     "text": [
      "Found  21793  patterns:\n"
     ]
    }
   ],
   "source": [
    "# Skipgram patterns included\n",
    "print(\"Found \" , len(model_indexed), \" patterns:\")"
   ]
  },
  {
   "cell_type": "code",
   "execution_count": 124,
   "metadata": {},
   "outputs": [
    {
     "name": "stdout",
     "output_type": "stream",
     "text": [
      "the {*} of  --  181\n",
      ", {*} ,  --  171\n",
      "<s> {*} the  --  142\n",
      ", {*} the  --  141\n",
      "<s> {*} ,  --  109\n",
      "a {*} of  --  91\n",
      "the {*} .  --  82\n",
      ", {*} says  --  82\n",
      ", {*} said  --  80\n",
      "to {*} the  --  76\n",
      "the {*} ,  --  71\n"
     ]
    }
   ],
   "source": [
    "for pattern, count in sorted( model_indexed.top(10, colibricore.Category.SKIPGRAM), key=lambda x:x[1]*-1 ):\n",
    "    print(pattern.tostring(classdecoder), \" -- \", count)"
   ]
  },
  {
   "cell_type": "code",
   "execution_count": 141,
   "metadata": {},
   "outputs": [
    {
     "name": "stdout",
     "output_type": "stream",
     "text": [
      "Occurrence count 3613\n",
      "Frequency 0.04129992455590865\n"
     ]
    }
   ],
   "source": [
    "qp = classencoder.buildpattern('<s>')\n",
    "if qp in model_indexed:\n",
    "    print('Occurrence count', model_indexed.occurrencecount(qp))\n",
    "    print('Frequency', model_indexed.frequency(qp))\n",
    "else:\n",
    "    print('qp not in model_indexed')"
   ]
  },
  {
   "cell_type": "code",
   "execution_count": 19,
   "metadata": {},
   "outputs": [],
   "source": [
    "p0, _ = list(model.filter(0, colibricore.Category.NGRAM, 1))[0]"
   ]
  },
  {
   "cell_type": "code",
   "execution_count": 21,
   "metadata": {},
   "outputs": [
    {
     "name": "stdout",
     "output_type": "stream",
     "text": [
      "<class 'colibricore.Pattern'>\n",
      "Dan\n"
     ]
    }
   ],
   "source": [
    "print(type(p0))\n",
    "print(p0.tostring(classdecoder))"
   ]
  },
  {
   "cell_type": "code",
   "execution_count": 23,
   "metadata": {},
   "outputs": [
    {
     "name": "stdout",
     "output_type": "stream",
     "text": [
      "True\n"
     ]
    }
   ],
   "source": [
    "p1 = classencoder.buildpattern('Dan')\n",
    "print(p0 == p1)"
   ]
  },
  {
   "cell_type": "code",
   "execution_count": 40,
   "metadata": {},
   "outputs": [],
   "source": [
    "def unigram_entropy(word, model, classencoder, classdecoder):\n",
    "    \"\"\"\n",
    "    word: a str or a pattern\n",
    "    model: an instance of colibricore.UnindexedPatternModel\n",
    "    \"\"\"\n",
    "    if isinstance(word, str):\n",
    "        word = classencoder.buildpattern(word)\n",
    "    if word not in model:\n",
    "        # print('\"{}\" not in model'.format(word))\n",
    "        return None\n",
    "\n",
    "    bigram_counts = np.asarray([count for pattern, count in model.filter(0, colibricore.Category.NGRAM, 2) if pattern[0] == word])\n",
    "    probs = bigram_counts / np.sum(bigram_counts)\n",
    "    entropy = - np.sum(probs * np.log2(probs))\n",
    "\n",
    "    return entropy"
   ]
  },
  {
   "cell_type": "code",
   "execution_count": 32,
   "metadata": {},
   "outputs": [
    {
     "name": "stdout",
     "output_type": "stream",
     "text": [
      "6.21843647371\n",
      "6.21843647371\n"
     ]
    }
   ],
   "source": [
    "qp = classencoder.buildpattern('<s>')\n",
    "print(unigram_entropy_new('<s>', model, classencoder, classdecoder))\n",
    "print(unigram_entropy_new(qp, model, classencoder, classdecoder))"
   ]
  },
  {
   "cell_type": "code",
   "execution_count": 34,
   "metadata": {},
   "outputs": [],
   "source": [
    "import os\n",
    "# debug\n",
    "base_name = 'wsj_raw_repl_lower'\n",
    "class_file = base_name + '.colibri.cls'\n",
    "corpus_file = base_name + '.colibri.dat'\n",
    "if not os.path.exists(class_file) or not os.path.exists(corpus_file):\n",
    "    _, _, classencoder, classdecoder = encode_file(base_name)\n",
    "else:\n",
    "    classencoder = colibricore.ClassEncoder(class_file)\n",
    "    classdecoder = colibricore.ClassDecoder(corpus_file)"
   ]
  },
  {
   "cell_type": "code",
   "execution_count": 35,
   "metadata": {},
   "outputs": [],
   "source": [
    "options = colibricore.PatternModelOptions(mintokens=2,maxlength=3)\n",
    "patternmodel_file = base_name + '.colibri.patternmodel'\n",
    "if os.path.exists(patternmodel_file):\n",
    "    model = colibricore.UnindexedPatternModel(patternmodel_file, options)\n",
    "else:\n",
    "    model = colibricore.UnindexedPatternModel()\n",
    "    model.train(corpus_file, options)\n",
    "    model.write(patternmodel_file)"
   ]
  },
  {
   "cell_type": "code",
   "execution_count": 54,
   "metadata": {},
   "outputs": [
    {
     "data": {
      "text/plain": [
       "-0.0"
      ]
     },
     "execution_count": 54,
     "metadata": {},
     "output_type": "execute_result"
    }
   ],
   "source": [
    "unigram_entropy('sir', model, classencoder, classdecoder)"
   ]
  },
  {
   "cell_type": "code",
   "execution_count": 62,
   "metadata": {},
   "outputs": [
    {
     "name": "stdout",
     "output_type": "stream",
     "text": [
      "<colibricore.Pattern object at 0x105e2c110>\n"
     ]
    }
   ],
   "source": [
    "word = 'i'\n",
    "qp = classencoder.buildpattern(word)\n",
    "print(qp)"
   ]
  },
  {
   "cell_type": "code",
   "execution_count": 63,
   "metadata": {},
   "outputs": [
    {
     "data": {
      "text/plain": [
       "array([2, 2, 2, 7, 2, 7, 7, 2, 2, 6, 2, 2, 6, 3])"
      ]
     },
     "execution_count": 63,
     "metadata": {},
     "output_type": "execute_result"
    }
   ],
   "source": [
    "np.asarray([count for pattern, count in model.filter(0, colibricore.Category.NGRAM, 2) if pattern[0] == qp])"
   ]
  },
  {
   "cell_type": "code",
   "execution_count": 64,
   "metadata": {},
   "outputs": [
    {
     "data": {
      "text/plain": [
       "'{?}'"
      ]
     },
     "execution_count": 64,
     "metadata": {},
     "output_type": "execute_result"
    }
   ],
   "source": [
    "qp.tostring(classdecoder)"
   ]
  },
  {
   "cell_type": "code",
   "execution_count": 73,
   "metadata": {},
   "outputs": [
    {
     "name": "stdout",
     "output_type": "stream",
     "text": [
      "13 1.0\n",
      "14 1.53049305676\n",
      "12 0.970950594455\n",
      "11 1.57095059445\n",
      "5 -0.0\n",
      "34 1.5\n",
      "12 0.650022421648\n",
      "2 -0.0\n",
      "2 -0.0\n",
      "5 -0.0\n"
     ]
    }
   ],
   "source": [
    "for pattern, _ in list(model.filter(0, colibricore.Category.NGRAM, 1))[:10]:\n",
    "    entropy = unigram_entropy(pattern, model, classencoder, classdecoder)\n",
    "    print(model[pattern], entropy)"
   ]
  },
  {
   "cell_type": "code",
   "execution_count": 75,
   "metadata": {},
   "outputs": [
    {
     "ename": "TypeError",
     "evalue": "Argument 'decoder' has incorrect type (expected colibricore.ClassDecoder, got colibricore.ClassEncoder)",
     "output_type": "error",
     "traceback": [
      "\u001b[0;31m---------------------------------------------------------------------------\u001b[0m",
      "\u001b[0;31mTypeError\u001b[0m                                 Traceback (most recent call last)",
      "\u001b[0;32m<ipython-input-75-ce517ffbc25d>\u001b[0m in \u001b[0;36m<module>\u001b[0;34m()\u001b[0m\n\u001b[0;32m----> 1\u001b[0;31m \u001b[0mpattern\u001b[0m\u001b[0;34m.\u001b[0m\u001b[0mtostring\u001b[0m\u001b[0;34m(\u001b[0m\u001b[0mclassencoder\u001b[0m\u001b[0;34m)\u001b[0m\u001b[0;34m\u001b[0m\u001b[0m\n\u001b[0m",
      "\u001b[0;31mTypeError\u001b[0m: Argument 'decoder' has incorrect type (expected colibricore.ClassDecoder, got colibricore.ClassEncoder)"
     ]
    }
   ],
   "source": [
    "pattern.tostring(classencoder)"
   ]
  },
  {
   "cell_type": "code",
   "execution_count": 83,
   "metadata": {},
   "outputs": [
    {
     "name": "stdout",
     "output_type": "stream",
     "text": [
      "[1, 2, 6]\n",
      "[1, 1, 1, 1, 1, 1, 1]\n"
     ]
    }
   ],
   "source": [
    "mylist = [1,2,2,1,1,1,2,1,1,1]\n",
    "rm_idx = []\n",
    "for i, n in enumerate(mylist):\n",
    "    if n == 2:\n",
    "        rm_idx.append(i)\n",
    "for idx in sorted(rm_idx, reverse=True): del mylist[idx]\n",
    "\n",
    "print(rm_idx)\n",
    "print(mylist)"
   ]
  },
  {
   "cell_type": "code",
   "execution_count": null,
   "metadata": {},
   "outputs": [],
   "source": []
  }
 ],
 "metadata": {
  "kernelspec": {
   "display_name": "Python 3",
   "language": "python",
   "name": "python3"
  },
  "language_info": {
   "codemirror_mode": {
    "name": "ipython",
    "version": 3
   },
   "file_extension": ".py",
   "mimetype": "text/x-python",
   "name": "python",
   "nbconvert_exporter": "python",
   "pygments_lexer": "ipython3",
   "version": "3.6.5"
  }
 },
 "nbformat": 4,
 "nbformat_minor": 2
}
